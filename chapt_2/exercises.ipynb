{
 "cells": [
  {
   "metadata": {},
   "cell_type": "markdown",
   "source": [
    "Q1- Of all affine maps, shears seem to be the least familiar to most people? Construct a matrix that maps the unit square with points (0, 0), (1, 0), (1, 1), (0, 1) to the parallelogram with image points (0, 0), (1, 0), (2, 1), (1,0).\n",
    "\n",
    "This question is relatively simple and finding the matrix is not what I wanna address, the affine transformation as the book suggests has a definition, read 2.2, it also mentions that every map in the form Ax+v is an affine map. shear is also the same as this. "
   ],
   "id": "e6179e851755b504"
  },
  {
   "metadata": {
    "ExecuteTime": {
     "end_time": "2025-07-19T21:42:50.738087Z",
     "start_time": "2025-07-19T21:42:50.584161Z"
    }
   },
   "cell_type": "code",
   "source": [
    "from OCC.Core.gp import gp_Pnt, gp_Trsf, gp_Vec\n",
    "from OCC.Core.BRepBuilderAPI import (\n",
    "    BRepBuilderAPI_MakePolygon,\n",
    "    BRepBuilderAPI_MakeFace,\n",
    "    BRepBuilderAPI_Transform\n",
    ")\n",
    "from OCC.Core.TopLoc import TopLoc_Location\n",
    "from OCC.Core.gp import gp_Mat, gp_Ax3, gp_Trsf\n",
    "from OCC.Display.SimpleGui import init_display\n",
    "from OCC.Core.AIS import AIS_Shape\n",
    "from OCC.Core.Quantity import Quantity_NOC_GREEN, Quantity_NOC_RED\n",
    "\n",
    "# Initialize viewer\n",
    "display, start_display, _, _ = init_display()\n",
    "\n",
    "# -------------------------\n",
    "# Create original unit square face\n",
    "# -------------------------\n",
    "poly = BRepBuilderAPI_MakePolygon()\n",
    "poly.Add(gp_Pnt(0, 0, 0))\n",
    "poly.Add(gp_Pnt(1, 0, 0))\n",
    "poly.Add(gp_Pnt(1, 1, 0))\n",
    "poly.Add(gp_Pnt(0, 1, 0))\n",
    "poly.Close()\n",
    "\n",
    "square_face = BRepBuilderAPI_MakeFace(poly.Wire()).Face()\n",
    "\n",
    "# -------------------------\n",
    "# Define shear transformation matrix\n",
    "# Shear in X: x' = x + y, y' = y\n",
    "# OCC uses 3x3 gp_Mat: matrix in 3D\n",
    "# We keep Z unchanged\n",
    "# -------------------------\n",
    "mat = gp_Mat(\n",
    "    1, 1, 0,  # first row\n",
    "    0, 1, 0,  # second row\n",
    "    0, 0, 1   # third row\n",
    ")\n",
    "\n",
    "# Create transformation using matrix and origin\n",
    "trsf = gp_Trsf()\n",
    "trsf.SetVectorialPart(mat)  # set the linear part (no translation)\n",
    "\n",
    "# Apply the transformation\n",
    "transformer = BRepBuilderAPI_Transform(square_face, trsf, True)\n",
    "sheared_face = transformer.Shape()\n",
    "\n",
    "# -------------------------\n",
    "# Display both faces\n",
    "# -------------------------\n",
    "ais_original = AIS_Shape(square_face)\n",
    "ais_sheared = AIS_Shape(sheared_face)\n",
    "\n",
    "display.Context.SetColor(ais_original, Quantity_NOC_GREEN)\n",
    "display.Context.SetColor(ais_sheared, Quantity_NOC_RED)\n",
    "\n",
    "display.Context.Display(ais_original, True)\n",
    "display.Context.Display(ais_sheared, True)\n",
    "display.FitAll()\n",
    "start_display()\n"
   ],
   "id": "504d032f49ebc31a",
   "outputs": [
    {
     "ename": "ModuleNotFoundError",
     "evalue": "No module named 'OCC'",
     "output_type": "error",
     "traceback": [
      "\u001B[0;31m---------------------------------------------------------------------------\u001B[0m",
      "\u001B[0;31mModuleNotFoundError\u001B[0m                       Traceback (most recent call last)",
      "Cell \u001B[0;32mIn[1], line 1\u001B[0m\n\u001B[0;32m----> 1\u001B[0m \u001B[38;5;28;01mfrom\u001B[39;00m \u001B[38;5;21;01mOCC\u001B[39;00m\u001B[38;5;21;01m.\u001B[39;00m\u001B[38;5;21;01mCore\u001B[39;00m\u001B[38;5;21;01m.\u001B[39;00m\u001B[38;5;21;01mgp\u001B[39;00m \u001B[38;5;28;01mimport\u001B[39;00m gp_Pnt, gp_Trsf, gp_Vec\n\u001B[1;32m      2\u001B[0m \u001B[38;5;28;01mfrom\u001B[39;00m \u001B[38;5;21;01mOCC\u001B[39;00m\u001B[38;5;21;01m.\u001B[39;00m\u001B[38;5;21;01mCore\u001B[39;00m\u001B[38;5;21;01m.\u001B[39;00m\u001B[38;5;21;01mBRepBuilderAPI\u001B[39;00m \u001B[38;5;28;01mimport\u001B[39;00m (\n\u001B[1;32m      3\u001B[0m     BRepBuilderAPI_MakePolygon,\n\u001B[1;32m      4\u001B[0m     BRepBuilderAPI_MakeFace,\n\u001B[1;32m      5\u001B[0m     BRepBuilderAPI_Transform\n\u001B[1;32m      6\u001B[0m )\n\u001B[1;32m      7\u001B[0m \u001B[38;5;28;01mfrom\u001B[39;00m \u001B[38;5;21;01mOCC\u001B[39;00m\u001B[38;5;21;01m.\u001B[39;00m\u001B[38;5;21;01mCore\u001B[39;00m\u001B[38;5;21;01m.\u001B[39;00m\u001B[38;5;21;01mTopLoc\u001B[39;00m \u001B[38;5;28;01mimport\u001B[39;00m TopLoc_Location\n",
      "\u001B[0;31mModuleNotFoundError\u001B[0m: No module named 'OCC'"
     ]
    }
   ],
   "execution_count": 1
  },
  {
   "metadata": {},
   "cell_type": "markdown",
   "source": "",
   "id": "3a67883000010691"
  },
  {
   "cell_type": "code",
   "execution_count": null,
   "id": "initial_id",
   "metadata": {
    "collapsed": true
   },
   "outputs": [],
   "source": ""
  },
  {
   "metadata": {},
   "cell_type": "markdown",
   "source": "",
   "id": "9f12402cbda09c2a"
  },
  {
   "metadata": {},
   "cell_type": "code",
   "outputs": [],
   "execution_count": null,
   "source": "",
   "id": "9c74c8ffde082cc3"
  }
 ],
 "metadata": {
  "kernelspec": {
   "display_name": "Python 3",
   "language": "python",
   "name": "python3"
  },
  "language_info": {
   "codemirror_mode": {
    "name": "ipython",
    "version": 2
   },
   "file_extension": ".py",
   "mimetype": "text/x-python",
   "name": "python",
   "nbconvert_exporter": "python",
   "pygments_lexer": "ipython2",
   "version": "2.7.6"
  }
 },
 "nbformat": 4,
 "nbformat_minor": 5
}
