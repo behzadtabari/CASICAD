{
 "cells": [
  {
   "cell_type": "code",
   "execution_count": null,
   "id": "7256988e",
   "metadata": {
    "vscode": {
     "languageId": "plaintext"
    }
   },
   "outputs": [],
   "source": []
  },
  {
   "cell_type": "markdown",
   "id": "dadfdef3",
   "metadata": {},
   "source": [
    " -Der Algorithmus von de Casteljau- \n",
    "Der in diesem Kapitel behandelte Algorithmus ist die Grundlage aller Algorithmen im Gebiet von Kurven- und Flächendesign"
   ]
  },
  {
   "cell_type": "code",
   "execution_count": null,
   "id": "65430eb1",
   "metadata": {
    "vscode": {
     "languageId": "plaintext"
    }
   },
   "outputs": [],
   "source": []
  }
 ],
 "metadata": {
  "language_info": {
   "name": "python"
  }
 },
 "nbformat": 4,
 "nbformat_minor": 5
}
